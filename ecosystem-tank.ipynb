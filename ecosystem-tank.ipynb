{
 "cells": [
  {
   "cell_type": "code",
   "execution_count": 1,
   "metadata": {},
   "outputs": [
    {
     "name": "stdout",
     "output_type": "stream",
     "text": [
      "\n",
      "                  ___________    ____\n",
      "  ________ __ ___/ / ____/   |  / __ \\\n",
      " / ___/ __` / __  / /   / /| | / / / /\n",
      "/ /__/ /_/ / /_/ / /___/ ___ |/ /_/ /\n",
      "\\___/\\__,_/\\__,_/\\____/_/  |_/_____/\n",
      "by cadCAD\n",
      "\n",
      "cadCAD Version: 0.4.28\n",
      "Execution Mode: local_proc\n",
      "Simulation Dimensions:\n",
      "Entire Simulation: (Models, Unique Timesteps, Params, Total Runs, Sub-States) = (1, 9, 0, 1, 3)\n",
      "     Simulation 0: (Timesteps, Params, Runs, Sub-States) = (9, 0, 1, 3)\n",
      "Execution Method: local_simulations\n",
      "Execution Mode: single_threaded\n",
      "Total execution time: 0.01s\n"
     ]
    }
   ],
   "source": [
    "import pandas as pd\n",
    "from cadCAD.engine import Executor, ExecutionMode, ExecutionContext\n",
    "from models.config import exp\n",
    "\n",
    "ctx = ExecutionContext(context = ExecutionMode().local_mode)\n",
    "sim = Executor(exec_context = ctx, configs = exp.configs)\n",
    "d, _, _ = sim.execute()\n",
    "\n",
    "df = pd.DataFrame(d)"
   ]
  },
  {
   "cell_type": "code",
   "execution_count": 2,
   "metadata": {},
   "outputs": [
    {
     "name": "stdout",
     "output_type": "stream",
     "text": [
      "                                                fish  \\\n",
      "0  {'betta': {'count': 1}, 'ghost_shrimp': {'coun...   \n",
      "1  {'betta': {'count': 1}, 'ghost_shrimp': {'coun...   \n",
      "2  {'betta': {'count': 1}, 'ghost_shrimp': {'coun...   \n",
      "3  {'betta': {'count': 1}, 'ghost_shrimp': {'coun...   \n",
      "4  {'betta': {'count': 1}, 'ghost_shrimp': {'coun...   \n",
      "5  {'betta': {'count': 1}, 'ghost_shrimp': {'coun...   \n",
      "6  {'betta': {'count': 1}, 'ghost_shrimp': {'coun...   \n",
      "7  {'betta': {'count': 1}, 'ghost_shrimp': {'coun...   \n",
      "8  {'betta': {'count': 1}, 'ghost_shrimp': {'coun...   \n",
      "9  {'betta': {'count': 1}, 'ghost_shrimp': {'coun...   \n",
      "\n",
      "                                              plants  \\\n",
      "0  {'amazon': {'count': 5}, 'java_fern': {'count'...   \n",
      "1  {'amazon': {'count': 5}, 'java_fern': {'count'...   \n",
      "2  {'amazon': {'count': 5}, 'java_fern': {'count'...   \n",
      "3  {'amazon': {'count': 5}, 'java_fern': {'count'...   \n",
      "4  {'amazon': {'count': 5}, 'java_fern': {'count'...   \n",
      "5  {'amazon': {'count': 5}, 'java_fern': {'count'...   \n",
      "6  {'amazon': {'count': 5}, 'java_fern': {'count'...   \n",
      "7  {'amazon': {'count': 5}, 'java_fern': {'count'...   \n",
      "8  {'amazon': {'count': 5}, 'java_fern': {'count'...   \n",
      "9  {'amazon': {'count': 5}, 'java_fern': {'count'...   \n",
      "\n",
      "                                               water  simulation  subset  run  \\\n",
      "0  {'ammonia': 0, 'nitrate': 0, 'nitrite': 0, 'ph...           0       0    1   \n",
      "1  {'ammonia': 0, 'nitrate': 0, 'nitrite': 0, 'ph...           0       0    1   \n",
      "2  {'ammonia': 0, 'nitrate': 0, 'nitrite': 0, 'ph...           0       0    1   \n",
      "3  {'ammonia': 0, 'nitrate': 0, 'nitrite': 0, 'ph...           0       0    1   \n",
      "4  {'ammonia': 0, 'nitrate': 0, 'nitrite': 0, 'ph...           0       0    1   \n",
      "5  {'ammonia': 0, 'nitrate': 0, 'nitrite': 0, 'ph...           0       0    1   \n",
      "6  {'ammonia': 0, 'nitrate': 0, 'nitrite': 0, 'ph...           0       0    1   \n",
      "7  {'ammonia': 0, 'nitrate': 0, 'nitrite': 0, 'ph...           0       0    1   \n",
      "8  {'ammonia': 0, 'nitrate': 0, 'nitrite': 0, 'ph...           0       0    1   \n",
      "9  {'ammonia': 0, 'nitrate': 0, 'nitrite': 0, 'ph...           0       0    1   \n",
      "\n",
      "   substep  timestep  \n",
      "0        0         0  \n",
      "1        1         1  \n",
      "2        1         2  \n",
      "3        1         3  \n",
      "4        1         4  \n",
      "5        1         5  \n",
      "6        1         6  \n",
      "7        1         7  \n",
      "8        1         8  \n",
      "9        1         9  \n"
     ]
    }
   ],
   "source": [
    "print(df)"
   ]
  },
  {
   "cell_type": "code",
   "execution_count": null,
   "metadata": {},
   "outputs": [],
   "source": []
  }
 ],
 "metadata": {
  "kernelspec": {
   "display_name": "Python 3 (ipykernel)",
   "language": "python",
   "name": "python3"
  },
  "language_info": {
   "codemirror_mode": {
    "name": "ipython",
    "version": 3
   },
   "file_extension": ".py",
   "mimetype": "text/x-python",
   "name": "python",
   "nbconvert_exporter": "python",
   "pygments_lexer": "ipython3",
   "version": "3.9.7"
  }
 },
 "nbformat": 4,
 "nbformat_minor": 4
}
